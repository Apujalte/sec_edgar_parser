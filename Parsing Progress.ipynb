{
 "cells": [
  {
   "cell_type": "markdown",
   "metadata": {},
   "source": [
    "## SEC Parser\n",
    "Generally working pretty well -- this is the output from ~1.5 months of filing data"
   ]
  },
  {
   "cell_type": "code",
   "execution_count": 155,
   "metadata": {
    "collapsed": false
   },
   "outputs": [
    {
     "name": "stdout",
     "output_type": "stream",
     "text": [
      "(1662, 18)\n"
     ]
    }
   ],
   "source": [
    "import pandas as pd\n",
    "import numpy as np\n",
    "import matplotlib.pyplot as plt\n",
    "import seaborn as sns\n",
    "%matplotlib inline\n",
    "\n",
    "FILENAME = '~/OneDrive/parsed_data_20160602190031.csv'\n",
    "\n",
    "df = pd.read_csv(FILENAME, encoding='latin_1', index_col=0)\n",
    "\n",
    "print(df.shape)"
   ]
  },
  {
   "cell_type": "code",
   "execution_count": 156,
   "metadata": {
    "collapsed": false
   },
   "outputs": [
    {
     "name": "stdout",
     "output_type": "stream",
     "text": [
      "Index(['term', 'value', 'value_period', 'cik', 'accession', 'form',\n",
      "       'form_period', 'form_submission', 'filing_url', 'excel_url',\n",
      "       'excel_path', 'company', 'ticker', 'industry_id', 'industry', 'sector',\n",
      "       'exchange', 'currency'],\n",
      "      dtype='object')\n",
      "\n",
      "\n"
     ]
    },
    {
     "data": {
      "text/html": [
       "<div>\n",
       "<table border=\"1\" class=\"dataframe\">\n",
       "  <thead>\n",
       "    <tr style=\"text-align: right;\">\n",
       "      <th></th>\n",
       "      <th>term</th>\n",
       "      <th>value</th>\n",
       "      <th>value_period</th>\n",
       "      <th>cik</th>\n",
       "      <th>accession</th>\n",
       "      <th>form</th>\n",
       "      <th>form_period</th>\n",
       "      <th>form_submission</th>\n",
       "      <th>filing_url</th>\n",
       "      <th>excel_url</th>\n",
       "      <th>excel_path</th>\n",
       "      <th>company</th>\n",
       "      <th>ticker</th>\n",
       "      <th>industry_id</th>\n",
       "      <th>industry</th>\n",
       "      <th>sector</th>\n",
       "      <th>exchange</th>\n",
       "      <th>currency</th>\n",
       "    </tr>\n",
       "  </thead>\n",
       "  <tbody>\n",
       "    <tr>\n",
       "      <th>0</th>\n",
       "      <td>Accounts Payable</td>\n",
       "      <td>696117.0</td>\n",
       "      <td>2015-10-31</td>\n",
       "      <td>1100397</td>\n",
       "      <td>0001493152-16-007685</td>\n",
       "      <td>10-Q</td>\n",
       "      <td>2016-01-31</td>\n",
       "      <td>2016-02-26 17:11:28</td>\n",
       "      <td>http://www.sec.gov/Archives/edgar/data/1100397...</td>\n",
       "      <td>http://www.sec.gov/Archives/edgar/data/1100397...</td>\n",
       "      <td>c:\\users\\chris\\anaconda3\\lib\\site-packages\\dat...</td>\n",
       "      <td>Advaxis Inc</td>\n",
       "      <td>NaN</td>\n",
       "      <td>NaN</td>\n",
       "      <td>NaN</td>\n",
       "      <td>NaN</td>\n",
       "      <td>NaN</td>\n",
       "      <td>NaN</td>\n",
       "    </tr>\n",
       "    <tr>\n",
       "      <th>1</th>\n",
       "      <td>Accounts Payable</td>\n",
       "      <td>843534.0</td>\n",
       "      <td>2016-01-31</td>\n",
       "      <td>1100397</td>\n",
       "      <td>0001493152-16-007685</td>\n",
       "      <td>10-Q</td>\n",
       "      <td>2016-01-31</td>\n",
       "      <td>2016-02-26 17:11:28</td>\n",
       "      <td>http://www.sec.gov/Archives/edgar/data/1100397...</td>\n",
       "      <td>http://www.sec.gov/Archives/edgar/data/1100397...</td>\n",
       "      <td>c:\\users\\chris\\anaconda3\\lib\\site-packages\\dat...</td>\n",
       "      <td>Advaxis Inc</td>\n",
       "      <td>NaN</td>\n",
       "      <td>NaN</td>\n",
       "      <td>NaN</td>\n",
       "      <td>NaN</td>\n",
       "      <td>NaN</td>\n",
       "      <td>NaN</td>\n",
       "    </tr>\n",
       "    <tr>\n",
       "      <th>2</th>\n",
       "      <td>Accrued Expenses</td>\n",
       "      <td>3191941.0</td>\n",
       "      <td>2015-10-31</td>\n",
       "      <td>1100397</td>\n",
       "      <td>0001493152-16-007685</td>\n",
       "      <td>10-Q</td>\n",
       "      <td>2016-01-31</td>\n",
       "      <td>2016-02-26 17:11:28</td>\n",
       "      <td>http://www.sec.gov/Archives/edgar/data/1100397...</td>\n",
       "      <td>http://www.sec.gov/Archives/edgar/data/1100397...</td>\n",
       "      <td>c:\\users\\chris\\anaconda3\\lib\\site-packages\\dat...</td>\n",
       "      <td>Advaxis Inc</td>\n",
       "      <td>NaN</td>\n",
       "      <td>NaN</td>\n",
       "      <td>NaN</td>\n",
       "      <td>NaN</td>\n",
       "      <td>NaN</td>\n",
       "      <td>NaN</td>\n",
       "    </tr>\n",
       "    <tr>\n",
       "      <th>3</th>\n",
       "      <td>Accrued Expenses</td>\n",
       "      <td>6643934.0</td>\n",
       "      <td>2016-01-31</td>\n",
       "      <td>1100397</td>\n",
       "      <td>0001493152-16-007685</td>\n",
       "      <td>10-Q</td>\n",
       "      <td>2016-01-31</td>\n",
       "      <td>2016-02-26 17:11:28</td>\n",
       "      <td>http://www.sec.gov/Archives/edgar/data/1100397...</td>\n",
       "      <td>http://www.sec.gov/Archives/edgar/data/1100397...</td>\n",
       "      <td>c:\\users\\chris\\anaconda3\\lib\\site-packages\\dat...</td>\n",
       "      <td>Advaxis Inc</td>\n",
       "      <td>NaN</td>\n",
       "      <td>NaN</td>\n",
       "      <td>NaN</td>\n",
       "      <td>NaN</td>\n",
       "      <td>NaN</td>\n",
       "      <td>NaN</td>\n",
       "    </tr>\n",
       "    <tr>\n",
       "      <th>4</th>\n",
       "      <td>Accumulated Deficit</td>\n",
       "      <td>-134054259.0</td>\n",
       "      <td>2015-10-31</td>\n",
       "      <td>1100397</td>\n",
       "      <td>0001493152-16-007685</td>\n",
       "      <td>10-Q</td>\n",
       "      <td>2016-01-31</td>\n",
       "      <td>2016-02-26 17:11:28</td>\n",
       "      <td>http://www.sec.gov/Archives/edgar/data/1100397...</td>\n",
       "      <td>http://www.sec.gov/Archives/edgar/data/1100397...</td>\n",
       "      <td>c:\\users\\chris\\anaconda3\\lib\\site-packages\\dat...</td>\n",
       "      <td>Advaxis Inc</td>\n",
       "      <td>NaN</td>\n",
       "      <td>NaN</td>\n",
       "      <td>NaN</td>\n",
       "      <td>NaN</td>\n",
       "      <td>NaN</td>\n",
       "      <td>NaN</td>\n",
       "    </tr>\n",
       "  </tbody>\n",
       "</table>\n",
       "</div>"
      ],
      "text/plain": [
       "                  term         value value_period      cik  \\\n",
       "0     Accounts Payable      696117.0   2015-10-31  1100397   \n",
       "1     Accounts Payable      843534.0   2016-01-31  1100397   \n",
       "2     Accrued Expenses     3191941.0   2015-10-31  1100397   \n",
       "3     Accrued Expenses     6643934.0   2016-01-31  1100397   \n",
       "4  Accumulated Deficit  -134054259.0   2015-10-31  1100397   \n",
       "\n",
       "              accession  form form_period      form_submission  \\\n",
       "0  0001493152-16-007685  10-Q  2016-01-31  2016-02-26 17:11:28   \n",
       "1  0001493152-16-007685  10-Q  2016-01-31  2016-02-26 17:11:28   \n",
       "2  0001493152-16-007685  10-Q  2016-01-31  2016-02-26 17:11:28   \n",
       "3  0001493152-16-007685  10-Q  2016-01-31  2016-02-26 17:11:28   \n",
       "4  0001493152-16-007685  10-Q  2016-01-31  2016-02-26 17:11:28   \n",
       "\n",
       "                                          filing_url  \\\n",
       "0  http://www.sec.gov/Archives/edgar/data/1100397...   \n",
       "1  http://www.sec.gov/Archives/edgar/data/1100397...   \n",
       "2  http://www.sec.gov/Archives/edgar/data/1100397...   \n",
       "3  http://www.sec.gov/Archives/edgar/data/1100397...   \n",
       "4  http://www.sec.gov/Archives/edgar/data/1100397...   \n",
       "\n",
       "                                           excel_url  \\\n",
       "0  http://www.sec.gov/Archives/edgar/data/1100397...   \n",
       "1  http://www.sec.gov/Archives/edgar/data/1100397...   \n",
       "2  http://www.sec.gov/Archives/edgar/data/1100397...   \n",
       "3  http://www.sec.gov/Archives/edgar/data/1100397...   \n",
       "4  http://www.sec.gov/Archives/edgar/data/1100397...   \n",
       "\n",
       "                                          excel_path      company ticker  \\\n",
       "0  c:\\users\\chris\\anaconda3\\lib\\site-packages\\dat...  Advaxis Inc    NaN   \n",
       "1  c:\\users\\chris\\anaconda3\\lib\\site-packages\\dat...  Advaxis Inc    NaN   \n",
       "2  c:\\users\\chris\\anaconda3\\lib\\site-packages\\dat...  Advaxis Inc    NaN   \n",
       "3  c:\\users\\chris\\anaconda3\\lib\\site-packages\\dat...  Advaxis Inc    NaN   \n",
       "4  c:\\users\\chris\\anaconda3\\lib\\site-packages\\dat...  Advaxis Inc    NaN   \n",
       "\n",
       "   industry_id  industry  sector exchange currency  \n",
       "0          NaN       NaN     NaN      NaN      NaN  \n",
       "1          NaN       NaN     NaN      NaN      NaN  \n",
       "2          NaN       NaN     NaN      NaN      NaN  \n",
       "3          NaN       NaN     NaN      NaN      NaN  \n",
       "4          NaN       NaN     NaN      NaN      NaN  "
      ]
     },
     "execution_count": 156,
     "metadata": {},
     "output_type": "execute_result"
    }
   ],
   "source": [
    "# 1662 rows of data -- what does it look like?\n",
    "print(df.columns)\n",
    "print('\\n')\n",
    "df.head()"
   ]
  },
  {
   "cell_type": "code",
   "execution_count": 157,
   "metadata": {
    "collapsed": false
   },
   "outputs": [
    {
     "data": {
      "text/plain": [
       "term                object\n",
       "value               object\n",
       "value_period        object\n",
       "cik                  int64\n",
       "accession           object\n",
       "form                object\n",
       "form_period         object\n",
       "form_submission     object\n",
       "filing_url          object\n",
       "excel_url           object\n",
       "excel_path          object\n",
       "company             object\n",
       "ticker              object\n",
       "industry_id        float64\n",
       "industry           float64\n",
       "sector             float64\n",
       "exchange            object\n",
       "currency            object\n",
       "dtype: object"
      ]
     },
     "execution_count": 157,
     "metadata": {},
     "output_type": "execute_result"
    }
   ],
   "source": [
    "# data types represented in each column\n",
    "df.dtypes"
   ]
  },
  {
   "cell_type": "code",
   "execution_count": 158,
   "metadata": {
    "collapsed": false
   },
   "outputs": [
    {
     "name": "stdout",
     "output_type": "stream",
     "text": [
      "0   2015-10-31\n",
      "1   2016-01-31\n",
      "2   2015-10-31\n",
      "3   2016-01-31\n",
      "4   2015-10-31\n",
      "Name: value_period, dtype: datetime64[ns]\n",
      "\n",
      "\n",
      "0   2016-02-26 17:11:28\n",
      "1   2016-02-26 17:11:28\n",
      "2   2016-02-26 17:11:28\n",
      "3   2016-02-26 17:11:28\n",
      "4   2016-02-26 17:11:28\n",
      "Name: form_submission, dtype: datetime64[ns]\n"
     ]
    }
   ],
   "source": [
    "# convert datetime columns\n",
    "\n",
    "df.value_period = pd.to_datetime(df.value_period, yearfirst=True, infer_datetime_format=True)\n",
    "print(df.value_period.head())\n",
    "\n",
    "print('\\n')\n",
    "\n",
    "df.form_submission = pd.to_datetime(df.form_submission, yearfirst=True, infer_datetime_format=True)\n",
    "print(df.form_submission.head())"
   ]
  },
  {
   "cell_type": "code",
   "execution_count": 159,
   "metadata": {
    "collapsed": false
   },
   "outputs": [
    {
     "data": {
      "text/plain": [
       "0.0              61\n",
       "                 50\n",
       "Dec. 31, 2014    17\n",
       "29532330000.0    12\n",
       "25537000.0       12\n",
       "10000.0           7\n",
       "Jun. 30, 2015     7\n",
       "31318532000.0     6\n",
       "612282000.0       6\n",
       "3549427.0         6\n",
       "Name: value, dtype: int64"
      ]
     },
     "execution_count": 159,
     "metadata": {},
     "output_type": "execute_result"
    }
   ],
   "source": [
    "# value column being an object is a problem -- we want this to be a float. need to clean\n",
    "df.value.value_counts().head(10)"
   ]
  },
  {
   "cell_type": "code",
   "execution_count": 160,
   "metadata": {
    "collapsed": false
   },
   "outputs": [
    {
     "name": "stdout",
     "output_type": "stream",
     "text": [
      "0        696117.0\n",
      "1        843534.0\n",
      "2       3191941.0\n",
      "3       6643934.0\n",
      "4    -134054259.0\n",
      "Name: value, dtype: object\n",
      "\n",
      "\n",
      "0    False\n",
      "1    False\n",
      "2    False\n",
      "3    False\n",
      "4    False\n",
      "Name: value, dtype: bool\n"
     ]
    }
   ],
   "source": [
    "# non-numeric data in the value column\n",
    "# how many numeric values do we see at first?\n",
    "print(df['value'].head())\n",
    "print('\\n')\n",
    "print(df['value'].apply(np.isreal).head())"
   ]
  },
  {
   "cell_type": "code",
   "execution_count": 161,
   "metadata": {
    "collapsed": false
   },
   "outputs": [
    {
     "name": "stdout",
     "output_type": "stream",
     "text": [
      "0       696117.0\n",
      "1       843534.0\n",
      "2      3191941.0\n",
      "3      6643934.0\n",
      "4   -134054259.0\n",
      "Name: value, dtype: float64\n",
      "\n",
      "\n",
      "0    True\n",
      "1    True\n",
      "2    True\n",
      "3    True\n",
      "4    True\n",
      "Name: value, dtype: bool\n",
      "\n",
      "\n",
      "True    1662\n",
      "Name: value, dtype: int64\n"
     ]
    }
   ],
   "source": [
    "# nothing right now -- they're all being considered strings.\n",
    "# let's try to force conversion, ignoring errors (leaving the datatype)\n",
    "df['value'] = pd.to_numeric(df['value'], errors='coerce')\n",
    "\n",
    "# now how many numeric?\n",
    "print(df['value'].head())\n",
    "print('\\n')\n",
    "print(df['value'].apply(np.isreal).head())\n",
    "print('\\n')\n",
    "print(df['value'].apply(np.isreal).value_counts())"
   ]
  },
  {
   "cell_type": "code",
   "execution_count": 162,
   "metadata": {
    "collapsed": false
   },
   "outputs": [
    {
     "name": "stdout",
     "output_type": "stream",
     "text": [
      "0.000000e+00    61\n",
      "2.953233e+10    12\n",
      "2.553700e+07    12\n",
      "1.000000e+04     7\n",
      "2.754510e+08     6\n",
      "Name: value, dtype: int64\n"
     ]
    }
   ],
   "source": [
    "# looks like that did the trick\n",
    "print(df.value.value_counts().head())"
   ]
  },
  {
   "cell_type": "code",
   "execution_count": 163,
   "metadata": {
    "collapsed": false
   },
   "outputs": [
    {
     "name": "stdout",
     "output_type": "stream",
     "text": [
      "2.953233e+10    12\n",
      "2.553700e+07    12\n",
      "1.000000e+04     7\n",
      "5.400000e+03     6\n",
      "4.406200e+07     6\n",
      "Name: value, dtype: int64\n"
     ]
    }
   ],
   "source": [
    "# let's drop the 0 values from our dataset\n",
    "df = df[df['value'] > 0]\n",
    "\n",
    "print(df.value.value_counts().head())"
   ]
  },
  {
   "cell_type": "code",
   "execution_count": 164,
   "metadata": {
    "collapsed": false
   },
   "outputs": [
    {
     "data": {
      "text/plain": [
       "14"
      ]
     },
     "execution_count": 164,
     "metadata": {},
     "output_type": "execute_result"
    }
   ],
   "source": [
    "# number of unique companies\n",
    "len(df.cik.unique())"
   ]
  },
  {
   "cell_type": "code",
   "execution_count": 165,
   "metadata": {
    "collapsed": false
   },
   "outputs": [
    {
     "data": {
      "text/plain": [
       "27"
      ]
     },
     "execution_count": 165,
     "metadata": {},
     "output_type": "execute_result"
    }
   ],
   "source": [
    "# number of unique filings\n",
    "len(df.accession.unique())"
   ]
  },
  {
   "cell_type": "code",
   "execution_count": 166,
   "metadata": {
    "collapsed": false
   },
   "outputs": [
    {
     "data": {
      "text/plain": [
       "224"
      ]
     },
     "execution_count": 166,
     "metadata": {},
     "output_type": "execute_result"
    }
   ],
   "source": [
    "# number of unique accounting terms\n",
    "len(df.term.unique())"
   ]
  },
  {
   "cell_type": "code",
   "execution_count": 167,
   "metadata": {
    "collapsed": false,
    "scrolled": false
   },
   "outputs": [
    {
     "data": {
      "text/plain": [
       "Total liabilities             35\n",
       "Total current liabilities     33\n",
       "Total current assets          32\n",
       "Cash and cash equivalents     28\n",
       "Total assets                  27\n",
       "Additional paid in capital    18\n",
       "Accounts payable              17\n",
       "Deferred income taxes         16\n",
       "Cash                          16\n",
       "Additional paid-in capital    16\n",
       "Name: term, dtype: int64"
      ]
     },
     "execution_count": 167,
     "metadata": {},
     "output_type": "execute_result"
    }
   ],
   "source": [
    "# 10 most common accounting terms\n",
    "df.term.value_counts().head(10)"
   ]
  },
  {
   "cell_type": "code",
   "execution_count": 168,
   "metadata": {
    "collapsed": false
   },
   "outputs": [
    {
     "name": "stdout",
     "output_type": "stream",
     "text": [
      "['Cash and cash equivalents', 'Total assets', 'Total liabilities', 'Total current liabilities', 'Total current assets']\n"
     ]
    }
   ],
   "source": [
    "# get list of most common accounting terms\n",
    "# probably a better way to do this\n",
    "common_terms = [key for key, val in df.term.value_counts().head().to_dict().items()]\n",
    "print(common_terms)"
   ]
  },
  {
   "cell_type": "code",
   "execution_count": 169,
   "metadata": {
    "collapsed": false
   },
   "outputs": [
    {
     "name": "stdout",
     "output_type": "stream",
     "text": [
      "                          term         value value_period      cik  \\\n",
      "72   Cash and cash equivalents  1.023350e+08   2015-12-31  1573516   \n",
      "73   Cash and cash equivalents  2.947410e+08   2013-12-31  1573516   \n",
      "74   Cash and cash equivalents  3.271630e+08   2014-12-31  1573516   \n",
      "160               Total assets  1.886241e+09   2015-12-31  1573516   \n",
      "161               Total assets  1.888564e+09   2013-12-31  1573516   \n",
      "\n",
      "                accession  form form_period     form_submission  \\\n",
      "72   0001573516-16-000051  10-K  2015-12-31 2016-02-26 06:58:13   \n",
      "73   0001573516-16-000051  10-K  2015-12-31 2016-02-26 06:58:13   \n",
      "74   0001573516-16-000051  10-K  2015-12-31 2016-02-26 06:58:13   \n",
      "160  0001573516-16-000051  10-K  2015-12-31 2016-02-26 06:58:13   \n",
      "161  0001573516-16-000051  10-K  2015-12-31 2016-02-26 06:58:13   \n",
      "\n",
      "                                            filing_url  \\\n",
      "72   http://www.sec.gov/Archives/edgar/data/1573516...   \n",
      "73   http://www.sec.gov/Archives/edgar/data/1573516...   \n",
      "74   http://www.sec.gov/Archives/edgar/data/1573516...   \n",
      "160  http://www.sec.gov/Archives/edgar/data/1573516...   \n",
      "161  http://www.sec.gov/Archives/edgar/data/1573516...   \n",
      "\n",
      "                                             excel_url  \\\n",
      "72   http://www.sec.gov/Archives/edgar/data/1573516...   \n",
      "73   http://www.sec.gov/Archives/edgar/data/1573516...   \n",
      "74   http://www.sec.gov/Archives/edgar/data/1573516...   \n",
      "160  http://www.sec.gov/Archives/edgar/data/1573516...   \n",
      "161  http://www.sec.gov/Archives/edgar/data/1573516...   \n",
      "\n",
      "                                            excel_path  \\\n",
      "72   c:\\users\\chris\\anaconda3\\lib\\site-packages\\dat...   \n",
      "73   c:\\users\\chris\\anaconda3\\lib\\site-packages\\dat...   \n",
      "74   c:\\users\\chris\\anaconda3\\lib\\site-packages\\dat...   \n",
      "160  c:\\users\\chris\\anaconda3\\lib\\site-packages\\dat...   \n",
      "161  c:\\users\\chris\\anaconda3\\lib\\site-packages\\dat...   \n",
      "\n",
      "                         company ticker  industry_id  industry  sector  \\\n",
      "72   Murphy Usa Inc Common Stock   MUSA          NaN       NaN     NaN   \n",
      "73   Murphy Usa Inc Common Stock   MUSA          NaN       NaN     NaN   \n",
      "74   Murphy Usa Inc Common Stock   MUSA          NaN       NaN     NaN   \n",
      "160  Murphy Usa Inc Common Stock   MUSA          NaN       NaN     NaN   \n",
      "161  Murphy Usa Inc Common Stock   MUSA          NaN       NaN     NaN   \n",
      "\n",
      "    exchange currency  \n",
      "72       NYQ      USD  \n",
      "73       NYQ      USD  \n",
      "74       NYQ      USD  \n",
      "160      NYQ      USD  \n",
      "161      NYQ      USD  \n",
      "\n",
      "\n",
      "155\n"
     ]
    }
   ],
   "source": [
    "print(df[df.term.isin(common_terms)].head())\n",
    "print('\\n')\n",
    "print(len(df[df.term.isin(common_terms)]))"
   ]
  },
  {
   "cell_type": "code",
   "execution_count": 170,
   "metadata": {
    "collapsed": false
   },
   "outputs": [
    {
     "name": "stdout",
     "output_type": "stream",
     "text": [
      "                          term         value\n",
      "72   Cash and cash equivalents  1.023350e+08\n",
      "73   Cash and cash equivalents  2.947410e+08\n",
      "74   Cash and cash equivalents  3.271630e+08\n",
      "160               Total assets  1.886241e+09\n",
      "161               Total assets  1.888564e+09\n",
      "\n",
      "\n"
     ]
    },
    {
     "data": {
      "image/png": "[encoded data removed]",
      "text/plain": [
       "<matplotlib.figure.Figure at 0x117546be0>"
      ]
     },
     "metadata": {},
     "output_type": "display_data"
    }
   ],
   "source": [
    "# boxplot of values for top 5 most common terms\n",
    "print(df[df.term.isin(common_terms)][['term', 'value']].head())\n",
    "print('\\n')\n",
    "\n",
    "sns.boxplot(x='term', y='value', data=df[df.term.isin(common_terms)][['term', 'value']])\n",
    "sns.plt.xticks(rotation=45)\n",
    "sns.plt.show()"
   ]
  },
  {
   "cell_type": "code",
   "execution_count": null,
   "metadata": {
    "collapsed": true
   },
   "outputs": [],
   "source": []
  }
 ],
 "metadata": {
  "kernelspec": {
   "display_name": "Python 3",
   "language": "python",
   "name": "python3"
  },
  "language_info": {
   "codemirror_mode": {
    "name": "ipython",
    "version": 3
   },
   "file_extension": ".py",
   "mimetype": "text/x-python",
   "name": "python",
   "nbconvert_exporter": "python",
   "pygments_lexer": "ipython3",
   "version": "3.5.1"
  }
 },
 "nbformat": 4,
 "nbformat_minor": 0
}
